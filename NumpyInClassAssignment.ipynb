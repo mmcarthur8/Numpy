{
 "cells": [
  {
   "cell_type": "code",
   "execution_count": 36,
   "id": "93e43cca",
   "metadata": {},
   "outputs": [],
   "source": [
    "# Number 1"
   ]
  },
  {
   "cell_type": "code",
   "execution_count": 37,
   "id": "eb31e0bf",
   "metadata": {},
   "outputs": [],
   "source": [
    "import numpy as np"
   ]
  },
  {
   "cell_type": "code",
   "execution_count": 38,
   "id": "50ab29f1",
   "metadata": {},
   "outputs": [],
   "source": [
    "# Number 2"
   ]
  },
  {
   "cell_type": "code",
   "execution_count": 39,
   "id": "d7490948",
   "metadata": {},
   "outputs": [
    {
     "data": {
      "text/plain": [
       "array([0., 0., 0., 0., 0., 0., 0., 0., 0., 0.])"
      ]
     },
     "execution_count": 39,
     "metadata": {},
     "output_type": "execute_result"
    }
   ],
   "source": [
    "np.zeros(10)"
   ]
  },
  {
   "cell_type": "code",
   "execution_count": 40,
   "id": "1b25f53f",
   "metadata": {},
   "outputs": [],
   "source": [
    "# Number 3"
   ]
  },
  {
   "cell_type": "code",
   "execution_count": 41,
   "id": "3a18fe76",
   "metadata": {},
   "outputs": [
    {
     "data": {
      "text/plain": [
       "array([1., 1., 1., 1., 1., 1., 1., 1., 1., 1.])"
      ]
     },
     "execution_count": 41,
     "metadata": {},
     "output_type": "execute_result"
    }
   ],
   "source": [
    "np.ones(10)"
   ]
  },
  {
   "cell_type": "code",
   "execution_count": 42,
   "id": "a37d2da6",
   "metadata": {},
   "outputs": [],
   "source": [
    "# Number 4"
   ]
  },
  {
   "cell_type": "code",
   "execution_count": 43,
   "id": "444751b6",
   "metadata": {},
   "outputs": [
    {
     "data": {
      "text/plain": [
       "array([5., 5., 5., 5., 5., 5., 5., 5., 5., 5.])"
      ]
     },
     "execution_count": 43,
     "metadata": {},
     "output_type": "execute_result"
    }
   ],
   "source": [
    "np.ones(10)*5"
   ]
  },
  {
   "cell_type": "code",
   "execution_count": 44,
   "id": "4d4edd80",
   "metadata": {},
   "outputs": [],
   "source": [
    "# Number 5"
   ]
  },
  {
   "cell_type": "code",
   "execution_count": 45,
   "id": "114cb6d9",
   "metadata": {},
   "outputs": [
    {
     "data": {
      "text/plain": [
       "array([10, 11, 12, 13, 14, 15, 16, 17, 18, 19, 20, 21, 22, 23, 24, 25, 26,\n",
       "       27, 28, 29, 30, 31, 32, 33, 34, 35, 36, 37, 38, 39, 40, 41, 42, 43,\n",
       "       44, 45, 46, 47, 48, 49, 50])"
      ]
     },
     "execution_count": 45,
     "metadata": {},
     "output_type": "execute_result"
    }
   ],
   "source": [
    "np.arange(10,51)"
   ]
  },
  {
   "cell_type": "code",
   "execution_count": 46,
   "id": "02645c08",
   "metadata": {},
   "outputs": [],
   "source": [
    "# Number 6"
   ]
  },
  {
   "cell_type": "code",
   "execution_count": 47,
   "id": "49742c21",
   "metadata": {},
   "outputs": [
    {
     "name": "stdout",
     "output_type": "stream",
     "text": [
      "[10 12 14 16 18 20 22 24 26 28 30 32 34 36 38 40 42 44 46 48 50]\n"
     ]
    }
   ],
   "source": [
    "print(np.arange(10,51,2))"
   ]
  },
  {
   "cell_type": "code",
   "execution_count": 48,
   "id": "facfc8cc",
   "metadata": {},
   "outputs": [],
   "source": [
    "# Number 7"
   ]
  },
  {
   "cell_type": "code",
   "execution_count": 49,
   "id": "daf89310",
   "metadata": {},
   "outputs": [
    {
     "data": {
      "text/plain": [
       "array([[0, 1, 2],\n",
       "       [3, 4, 5],\n",
       "       [6, 7, 8]])"
      ]
     },
     "execution_count": 49,
     "metadata": {},
     "output_type": "execute_result"
    }
   ],
   "source": [
    "np.arange(0,9).reshape((3,3))"
   ]
  },
  {
   "cell_type": "code",
   "execution_count": 50,
   "id": "a5461db7",
   "metadata": {},
   "outputs": [],
   "source": [
    "# Number 8"
   ]
  },
  {
   "cell_type": "code",
   "execution_count": 51,
   "id": "1788787d",
   "metadata": {},
   "outputs": [
    {
     "data": {
      "text/plain": [
       "0"
      ]
     },
     "execution_count": 51,
     "metadata": {},
     "output_type": "execute_result"
    }
   ],
   "source": [
    "np.random.randint(0,1)"
   ]
  },
  {
   "cell_type": "code",
   "execution_count": 52,
   "id": "1eb6db58",
   "metadata": {},
   "outputs": [],
   "source": [
    "# Number 9"
   ]
  },
  {
   "cell_type": "code",
   "execution_count": 53,
   "id": "6a777d07",
   "metadata": {},
   "outputs": [
    {
     "data": {
      "text/plain": [
       "array([[ 1,  2,  3,  4,  5],\n",
       "       [ 6,  7,  8,  9, 10],\n",
       "       [11, 12, 13, 14, 15],\n",
       "       [16, 17, 18, 19, 20],\n",
       "       [21, 22, 23, 24, 25]])"
      ]
     },
     "execution_count": 53,
     "metadata": {},
     "output_type": "execute_result"
    }
   ],
   "source": [
    "mat = np.arange(1,26).reshape(5,5)\n",
    "mat"
   ]
  },
  {
   "cell_type": "code",
   "execution_count": 54,
   "id": "9e50b2b3",
   "metadata": {},
   "outputs": [],
   "source": [
    "# Number 10a"
   ]
  },
  {
   "cell_type": "code",
   "execution_count": 55,
   "id": "b8f46894",
   "metadata": {},
   "outputs": [
    {
     "data": {
      "text/plain": [
       "325"
      ]
     },
     "execution_count": 55,
     "metadata": {},
     "output_type": "execute_result"
    }
   ],
   "source": [
    "mat.sum()"
   ]
  },
  {
   "cell_type": "code",
   "execution_count": 56,
   "id": "e015463e",
   "metadata": {},
   "outputs": [],
   "source": [
    "# Number 10b"
   ]
  },
  {
   "cell_type": "code",
   "execution_count": 57,
   "id": "930b70e3",
   "metadata": {},
   "outputs": [
    {
     "data": {
      "text/plain": [
       "7.211102550927978"
      ]
     },
     "execution_count": 57,
     "metadata": {},
     "output_type": "execute_result"
    }
   ],
   "source": [
    "mat.std()"
   ]
  },
  {
   "cell_type": "code",
   "execution_count": 58,
   "id": "dbc24b3a",
   "metadata": {},
   "outputs": [],
   "source": [
    "# Number 10c"
   ]
  },
  {
   "cell_type": "code",
   "execution_count": 59,
   "id": "4802dc11",
   "metadata": {},
   "outputs": [
    {
     "data": {
      "text/plain": [
       "array([[1., 1., 1., 1., 1.],\n",
       "       [1., 1., 1., 1., 1.],\n",
       "       [1., 1., 1., 1., 1.],\n",
       "       [1., 1., 1., 1., 1.],\n",
       "       [1., 1., 1., 1., 1.]])"
      ]
     },
     "execution_count": 59,
     "metadata": {},
     "output_type": "execute_result"
    }
   ],
   "source": [
    "mat1 = np.ones(25).reshape(5,5)\n",
    "mat1"
   ]
  },
  {
   "cell_type": "code",
   "execution_count": 60,
   "id": "1bfc709e",
   "metadata": {},
   "outputs": [],
   "source": [
    "# Number 10d"
   ]
  },
  {
   "cell_type": "code",
   "execution_count": 61,
   "id": "04616810",
   "metadata": {},
   "outputs": [
    {
     "data": {
      "text/plain": [
       "array([[ 2.,  3.,  4.,  5.,  6.],\n",
       "       [ 7.,  8.,  9., 10., 11.],\n",
       "       [12., 13., 14., 15., 16.],\n",
       "       [17., 18., 19., 20., 21.],\n",
       "       [22., 23., 24., 25., 26.]])"
      ]
     },
     "execution_count": 61,
     "metadata": {},
     "output_type": "execute_result"
    }
   ],
   "source": [
    "mat + mat1"
   ]
  },
  {
   "cell_type": "code",
   "execution_count": 62,
   "id": "7d873fc6",
   "metadata": {},
   "outputs": [],
   "source": [
    "# Number 10e"
   ]
  },
  {
   "cell_type": "code",
   "execution_count": 63,
   "id": "c7e3af8e",
   "metadata": {},
   "outputs": [
    {
     "data": {
      "text/plain": [
       "array([[ 1.,  2.,  3.,  4.,  5.],\n",
       "       [ 6.,  7.,  8.,  9., 10.],\n",
       "       [11., 12., 13., 14., 15.],\n",
       "       [16., 17., 18., 19., 20.],\n",
       "       [21., 22., 23., 24., 25.]])"
      ]
     },
     "execution_count": 63,
     "metadata": {},
     "output_type": "execute_result"
    }
   ],
   "source": [
    "mat * mat1"
   ]
  },
  {
   "cell_type": "code",
   "execution_count": null,
   "id": "bed65822",
   "metadata": {},
   "outputs": [],
   "source": []
  }
 ],
 "metadata": {
  "kernelspec": {
   "display_name": "Python 3 (ipykernel)",
   "language": "python",
   "name": "python3"
  },
  "language_info": {
   "codemirror_mode": {
    "name": "ipython",
    "version": 3
   },
   "file_extension": ".py",
   "mimetype": "text/x-python",
   "name": "python",
   "nbconvert_exporter": "python",
   "pygments_lexer": "ipython3",
   "version": "3.9.7"
  }
 },
 "nbformat": 4,
 "nbformat_minor": 5
}
